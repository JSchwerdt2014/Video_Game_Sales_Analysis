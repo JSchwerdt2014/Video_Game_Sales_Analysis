{
 "cells": [
  {
   "cell_type": "code",
   "execution_count": 1,
   "id": "1fe0e1c8",
   "metadata": {},
   "outputs": [],
   "source": [
    "import pandas as pd\n",
    "import matplotlib as plt\n",
    "%matplotlib inline"
   ]
  },
  {
   "cell_type": "code",
   "execution_count": 2,
   "id": "182c3478",
   "metadata": {},
   "outputs": [],
   "source": [
    "#load in df\n",
    "df = pd.read_csv(r\"C:\\Users\\Justin Schwerdt\\Documents\\data-analytics-projects\\video-game-sales\\cleaned-video-game-sales-df.csv\")"
   ]
  },
  {
   "cell_type": "markdown",
   "id": "3158e820",
   "metadata": {},
   "source": [
    "## Question 1: Which country had the top global sales?"
   ]
  },
  {
   "cell_type": "code",
   "execution_count": 23,
   "id": "1093120f",
   "metadata": {},
   "outputs": [
    {
     "data": {
      "text/plain": [
       "4400.84"
      ]
     },
     "execution_count": 23,
     "metadata": {},
     "output_type": "execute_result"
    }
   ],
   "source": [
    "#sum NA sales\n",
    "df['na_sales'].sum()"
   ]
  },
  {
   "cell_type": "code",
   "execution_count": 24,
   "id": "56220f0d",
   "metadata": {},
   "outputs": [
    {
     "data": {
      "text/plain": [
       "2424.1400000000003"
      ]
     },
     "execution_count": 24,
     "metadata": {},
     "output_type": "execute_result"
    }
   ],
   "source": [
    "#sum EU sales\n",
    "df['eu_sales'].sum()"
   ]
  },
  {
   "cell_type": "code",
   "execution_count": 25,
   "id": "1e9cbfe3",
   "metadata": {},
   "outputs": [
    {
     "data": {
      "text/plain": [
       "1297.4"
      ]
     },
     "execution_count": 25,
     "metadata": {},
     "output_type": "execute_result"
    }
   ],
   "source": [
    "#sum JP sales\n",
    "df['jp_sales'].sum()"
   ]
  },
  {
   "cell_type": "markdown",
   "id": "d0dd58c9",
   "metadata": {},
   "source": [
    "## Question 2: Which genre has the top sales in na?"
   ]
  },
  {
   "cell_type": "code",
   "execution_count": 18,
   "id": "f33d5613",
   "metadata": {},
   "outputs": [],
   "source": [
    "#group by genre and sum the na sales\n",
    "genre_na_sales = df.groupby([\"genre\"]).na_sales.sum()"
   ]
  },
  {
   "cell_type": "code",
   "execution_count": 19,
   "id": "f8a583c9",
   "metadata": {},
   "outputs": [
    {
     "data": {
      "text/plain": [
       "genre\n",
       "Action          879.01\n",
       "Adventure       105.26\n",
       "Fighting        223.36\n",
       "Misc            407.27\n",
       "Platform        445.50\n",
       "Puzzle          122.87\n",
       "Racing          359.35\n",
       "Role-Playing    330.81\n",
       "Shooter         592.24\n",
       "Simulation      182.19\n",
       "Sports          684.43\n",
       "Strategy         68.55\n",
       "Name: na_sales, dtype: float64"
      ]
     },
     "execution_count": 19,
     "metadata": {},
     "output_type": "execute_result"
    }
   ],
   "source": [
    "#na genre sales output\n",
    "genre_na_sales"
   ]
  },
  {
   "cell_type": "markdown",
   "id": "7b8ad03a",
   "metadata": {},
   "source": [
    "## Question 3: Does the year of release affect overall sales?"
   ]
  },
  {
   "cell_type": "code",
   "execution_count": 16,
   "id": "f199a3c1",
   "metadata": {},
   "outputs": [],
   "source": [
    "#group by year of release and sum global sales\n",
    "global_sales_by_year = df.groupby([\"year_of_release\"]).global_sales.sum()"
   ]
  },
  {
   "cell_type": "code",
   "execution_count": 17,
   "id": "4ae98c34",
   "metadata": {},
   "outputs": [
    {
     "data": {
      "text/plain": [
       "year_of_release\n",
       "0        98.96\n",
       "1980     11.38\n",
       "1981     35.77\n",
       "1982     28.86\n",
       "1983     16.79\n",
       "1984     50.36\n",
       "1985     53.94\n",
       "1986     37.07\n",
       "1987     21.74\n",
       "1988     47.22\n",
       "1989     73.45\n",
       "1990     49.39\n",
       "1991     32.23\n",
       "1992     76.17\n",
       "1993     45.98\n",
       "1994     79.18\n",
       "1995     88.11\n",
       "1996    199.15\n",
       "1997    200.98\n",
       "1998    256.45\n",
       "1999    251.25\n",
       "2000    201.58\n",
       "2001    331.47\n",
       "2002    395.51\n",
       "2003    357.80\n",
       "2004    419.05\n",
       "2005    458.31\n",
       "2006    518.22\n",
       "2007    605.37\n",
       "2008    671.79\n",
       "2009    658.88\n",
       "2010    590.59\n",
       "2011    507.79\n",
       "2012    355.84\n",
       "2013    361.24\n",
       "2014    331.51\n",
       "2015    268.05\n",
       "2016    130.10\n",
       "2017      0.06\n",
       "2020      0.29\n",
       "Name: global_sales, dtype: float64"
      ]
     },
     "execution_count": 17,
     "metadata": {},
     "output_type": "execute_result"
    }
   ],
   "source": [
    "global_sales_by_year"
   ]
  },
  {
   "cell_type": "markdown",
   "id": "0e6d7ca8",
   "metadata": {},
   "source": [
    "## refer to Tableu files for visualizations"
   ]
  },
  {
   "cell_type": "code",
   "execution_count": null,
   "id": "04639f74",
   "metadata": {},
   "outputs": [],
   "source": []
  }
 ],
 "metadata": {
  "kernelspec": {
   "display_name": "Python 3 (ipykernel)",
   "language": "python",
   "name": "python3"
  },
  "language_info": {
   "codemirror_mode": {
    "name": "ipython",
    "version": 3
   },
   "file_extension": ".py",
   "mimetype": "text/x-python",
   "name": "python",
   "nbconvert_exporter": "python",
   "pygments_lexer": "ipython3",
   "version": "3.9.7"
  }
 },
 "nbformat": 4,
 "nbformat_minor": 5
}
